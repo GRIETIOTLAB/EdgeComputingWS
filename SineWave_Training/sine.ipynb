{
  "nbformat": 4,
  "nbformat_minor": 0,
  "metadata": {
    "colab": {
      "name": "sine.ipynb",
      "provenance": [],
      "authorship_tag": "ABX9TyMUAlLObZB0EJIa8RgfosNr",
      "include_colab_link": true
    },
    "kernelspec": {
      "display_name": "Python 3",
      "name": "python3"
    }
  },
  "cells": [
    {
      "cell_type": "markdown",
      "metadata": {
        "id": "view-in-github",
        "colab_type": "text"
      },
      "source": [
        "<a href=\"https://colab.research.google.com/github/GRIETIOTLAB/EdgeComputingWS/blob/main/SineWave_Training/sine.ipynb\" target=\"_parent\"><img src=\"https://colab.research.google.com/assets/colab-badge.svg\" alt=\"Open In Colab\"/></a>"
      ]
    },
    {
      "cell_type": "code",
      "metadata": {
        "id": "hta0zXrUNq1a"
      },
      "source": [
        "!pip install tinymlgen"
      ],
      "execution_count": null,
      "outputs": []
    },
    {
      "cell_type": "code",
      "metadata": {
        "id": "YWqu1MEAN8p6"
      },
      "source": [
        "import math\r\n",
        "import numpy as np\r\n",
        "import tensorflow as tf\r\n",
        "from tensorflow.keras import layers\r\n",
        "def get_model():\r\n",
        "  SAMPLES = 1000\r\n",
        "  np.random.seed(1337)\r\n",
        "  x_values = np.random.uniform(low=0,high=2*math.pi,size=SAMPLES)\r\n",
        "  np.random.shuffle(x_values)\r\n",
        "  y_values = np.sin(x_values)\r\n",
        "  y_values += 0.1*np.random.randn(*y_values.shape)\r\n",
        "  TRAIN_SPLIT =  int(0.6 * SAMPLES)\r\n",
        "  TEST_SPLIT = int(0.2 * SAMPLES + TRAIN_SPLIT)\r\n",
        "  x_train, x_test, x_validate = np.split(x_values, [TRAIN_SPLIT, TEST_SPLIT])\r\n",
        "  y_train, y_test, y_validate = np.split(y_values, [TRAIN_SPLIT, TEST_SPLIT])\r\n",
        "\r\n",
        "    # create a NN with 2 layers of 16 neurons\r\n",
        "  model = tf.keras.Sequential()\r\n",
        "  model.add(layers.Dense(16, activation='relu', input_shape=(1,)))\r\n",
        "  model.add(layers.Dense(16, activation='relu'))\r\n",
        "  model.add(layers.Dense(1))\r\n",
        "  model.compile(optimizer='rmsprop', loss='mse', metrics=['mae'])\r\n",
        "  model.fit(x_train, y_train, epochs=200, batch_size=16,\r\n",
        "                        validation_data=(x_validate, y_validate))\r\n",
        "  return model\r\n",
        "        "
      ],
      "execution_count": 2,
      "outputs": []
    },
    {
      "cell_type": "code",
      "metadata": {
        "id": "dZ1-2CgdW18p"
      },
      "source": [
        "from tinymlgen import port\r\n",
        "model = get_model()\r\n",
        "c_code = port(model, optimize=False, pretty_print=True)\r\n",
        "print(c_code)"
      ],
      "execution_count": null,
      "outputs": []
    }
  ]
}