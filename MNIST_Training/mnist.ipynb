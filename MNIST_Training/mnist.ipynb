{
  "nbformat": 4,
  "nbformat_minor": 0,
  "metadata": {
    "colab": {
      "name": "mnist.ipynb",
      "provenance": [],
      "authorship_tag": "ABX9TyMYEN2q+1D1w4AtclXNN7Y7",
      "include_colab_link": true
    },
    "kernelspec": {
      "name": "python3",
      "display_name": "Python 3"
    }
  },
  "cells": [
    {
      "cell_type": "markdown",
      "metadata": {
        "id": "view-in-github",
        "colab_type": "text"
      },
      "source": [
        "<a href=\"https://colab.research.google.com/github/GRIETIOTLAB/EdgeComputingWS/blob/main/MNIST_Training/mnist.ipynb\" target=\"_parent\"><img src=\"https://colab.research.google.com/assets/colab-badge.svg\" alt=\"Open In Colab\"/></a>"
      ]
    },
    {
      "cell_type": "code",
      "metadata": {
        "id": "Q9jZVmHF4gma"
      },
      "source": [
        "!pip install tinymlgen"
      ],
      "execution_count": null,
      "outputs": []
    },
    {
      "cell_type": "code",
      "metadata": {
        "id": "MgI81ayR4sDh"
      },
      "source": [
        "import math\r\n",
        "import numpy as np\r\n",
        "from sklearn.datasets import load_digits\r\n",
        "import tensorflow as tf\r\n",
        "from tensorflow.keras import layers\r\n",
        "from tinymlgen import port\r\n",
        "\r\n",
        "\r\n",
        "def get_data():\r\n",
        "    np.random.seed(1337)\r\n",
        "    x_values, y_values = load_digits(return_X_y=True)\r\n",
        "    x_values /= x_values.max()\r\n",
        "    # reshape to (8 x 8 x 1)\r\n",
        "    x_values = x_values.reshape((len(x_values), 8, 8, 1))\r\n",
        "\r\n",
        "    # split into train, validation, test\r\n",
        "    TRAIN_SPLIT = int(0.6 * len(x_values))\r\n",
        "    TEST_SPLIT = int(0.2 * len(x_values) + TRAIN_SPLIT)\r\n",
        "    x_train, x_test, x_validate = np.split(x_values, [TRAIN_SPLIT, TEST_SPLIT])\r\n",
        "    y_train, y_test, y_validate = np.split(y_values, [TRAIN_SPLIT, TEST_SPLIT])\r\n",
        "\r\n",
        "    return x_train, x_test, x_validate, y_train, y_test, y_validate\r\n",
        "\r\n",
        "def get_model():\r\n",
        "    x_train, x_test, x_validate, y_train, y_test, y_validate = get_data()\r\n",
        "\r\n",
        "    # create a CNN\r\n",
        "    model = tf.keras.Sequential()\r\n",
        "    model.add(layers.Conv2D(8, (3, 3), activation='relu', input_shape=(8, 8, 1)))\r\n",
        "    # model.add(layers.MaxPooling2D((2, 2)))\r\n",
        "    # model.add(layers.Conv2D(64, (3, 3), activation='relu'))\r\n",
        "    # model.add(layers.MaxPooling2D((2, 2)))\r\n",
        "    # model.add(layers.Conv2D(64, (3, 3), activation='relu'))\r\n",
        "    model.add(layers.Flatten())\r\n",
        "    # model.add(layers.Dense(16, activation='relu'))\r\n",
        "    model.add(layers.Dense(len(np.unique(y_train))))\r\n",
        "\r\n",
        "    model.compile(optimizer='adam', loss=tf.keras.losses.SparseCategoricalCrossentropy(from_logits=True), metrics=['accuracy'])\r\n",
        "    model.fit(x_train, y_train, epochs=50, batch_size=16,\r\n",
        "              validation_data=(x_validate, y_validate))\r\n",
        "    return model,x_test,y_test\r\n",
        "\r\n",
        "def test_model(model, x_test, y_test):\r\n",
        "    x_test = (x_test / x_test.max()).reshape((len(x_test), 8, 8, 1))\r\n",
        "    y_pred = model.predict(x_test).argmax(axis=1)\r\n",
        "    print('ACCURACY', (y_pred == y_test).sum() / len(y_test))\r\n",
        "    \r\n",
        "    \r\n",
        "\r\n",
        "\r\n",
        "model, x_test, y_test = get_model()\r\n",
        "test_model(model,x_test,y_test)\r\n",
        "c_code = port(model,optimize=False, variable_name='digits_model', pretty_print=True)\r\n",
        "print(c_code)"
      ],
      "execution_count": null,
      "outputs": []
    }
  ]
}