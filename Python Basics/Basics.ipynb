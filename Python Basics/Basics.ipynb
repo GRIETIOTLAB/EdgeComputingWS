{
  "nbformat": 4,
  "nbformat_minor": 0,
  "metadata": {
    "colab": {
      "name": "Basics.ipynb",
      "provenance": [],
      "authorship_tag": "ABX9TyMj18mcBP1C0wc+xl2I2njl",
      "include_colab_link": true
    },
    "kernelspec": {
      "name": "python3",
      "display_name": "Python 3"
    }
  },
  "cells": [
    {
      "cell_type": "markdown",
      "metadata": {
        "id": "view-in-github",
        "colab_type": "text"
      },
      "source": [
        "<a href=\"https://colab.research.google.com/github/GRIETIOTLAB/EdgeComputingWS/blob/main/Python%20Basics/Basics.ipynb\" target=\"_parent\"><img src=\"https://colab.research.google.com/assets/colab-badge.svg\" alt=\"Open In Colab\"/></a>"
      ]
    },
    {
      "cell_type": "markdown",
      "metadata": {
        "id": "yq_tA1A-yn9K"
      },
      "source": [
        "**Hello World**"
      ]
    },
    {
      "cell_type": "code",
      "metadata": {
        "colab": {
          "base_uri": "https://localhost:8080/"
        },
        "id": "hRIinbumyAP4",
        "outputId": "88c74486-6134-4e80-87af-dd7eb011ac3f"
      },
      "source": [
        "print('Hello World!')"
      ],
      "execution_count": null,
      "outputs": [
        {
          "output_type": "stream",
          "text": [
            "Hello World!\n"
          ],
          "name": "stdout"
        }
      ]
    },
    {
      "cell_type": "markdown",
      "metadata": {
        "id": "G8TsT9weyfXY"
      },
      "source": [
        "**Variables**"
      ]
    },
    {
      "cell_type": "code",
      "metadata": {
        "colab": {
          "base_uri": "https://localhost:8080/"
        },
        "id": "ixeWDp7XswqX",
        "outputId": "71abefcf-c7bd-4cff-976e-e18aabdbd08b"
      },
      "source": [
        "# A variable stores a piece of data and gives it a name\r\n",
        "\r\n",
        "a = 42\r\n",
        "\r\n",
        "# a contained an integer bcos we gave it an integer\r\n",
        "\r\n",
        "is_it_monday = True\r\n",
        "is_it_sunday = False\r\n",
        "\r\n",
        "# booleans example\r\n",
        "\r\n",
        "pi_approx = 3.1415\r\n",
        "\r\n",
        "# float example\r\n",
        "\r\n",
        "my_name = \"Murthy\"\r\n",
        "\r\n",
        "# String data type\r\n",
        "\r\n",
        "print(pi_approx)\r\n",
        "print(my_name)\r\n"
      ],
      "execution_count": null,
      "outputs": [
        {
          "output_type": "stream",
          "text": [
            "3.1415\n",
            "Murthy\n"
          ],
          "name": "stdout"
        }
      ]
    },
    {
      "cell_type": "markdown",
      "metadata": {
        "id": "3F7cgFb9y55M"
      },
      "source": [
        "**Lists**"
      ]
    },
    {
      "cell_type": "code",
      "metadata": {
        "colab": {
          "base_uri": "https://localhost:8080/"
        },
        "id": "ImHFIhw2y_fx",
        "outputId": "5c5e1f28-5f66-4e47-9056-077be2f645bd"
      },
      "source": [
        "prices = [10,20,30,40,50]\r\n",
        "\r\n",
        "colors= [\"red\",\"blue\",\"yellow\"]\r\n",
        "\r\n",
        "mixed_list= [1,2.2,\"three\",False]\r\n",
        "\r\n",
        "print(prices)\r\n",
        "\r\n",
        "print(colors[0])\r\n",
        "\r\n",
        "print(mixed_list[3])"
      ],
      "execution_count": null,
      "outputs": [
        {
          "output_type": "stream",
          "text": [
            "[10, 20, 30, 40, 50]\n",
            "red\n",
            "False\n"
          ],
          "name": "stdout"
        }
      ]
    },
    {
      "cell_type": "markdown",
      "metadata": {
        "id": "EyuZJ3OG0MkA"
      },
      "source": [
        "**Importing in Python**"
      ]
    },
    {
      "cell_type": "code",
      "metadata": {
        "id": "Z1DwSd0C0R8W"
      },
      "source": [
        "float1 = 5.24\r\n",
        "float2 = 2.25\r\n",
        "\r\n",
        "import math\r\n",
        "print(math.log(float1))\r\n",
        "print(math.exp(float2))\r\n",
        "\r\n",
        "import matplotlib.pyplot as plt\r\n",
        "x = [-2,-1,0,1,2]\r\n",
        "y = [-4,-2,0,2,4]\r\n",
        "plt.plot(x,y)"
      ],
      "execution_count": null,
      "outputs": []
    },
    {
      "cell_type": "markdown",
      "metadata": {
        "id": "lxBAtCK11uXX"
      },
      "source": [
        "**Loops**"
      ]
    },
    {
      "cell_type": "code",
      "metadata": {
        "id": "qASyoTYj1ykJ"
      },
      "source": [
        "fib = [1,1,2,3,5,8]\r\n",
        "\r\n",
        "for i in range(0,len(fib)):\r\n",
        "  print(fib[i])\r\n",
        "\r\n",
        "print(\"Let's try again\")\r\n",
        "\r\n",
        "for j in fib:\r\n",
        "  print(j)"
      ],
      "execution_count": null,
      "outputs": []
    },
    {
      "cell_type": "markdown",
      "metadata": {
        "id": "HsU6sIed3CXn"
      },
      "source": [
        "**Conditionals**"
      ]
    },
    {
      "cell_type": "code",
      "metadata": {
        "colab": {
          "base_uri": "https://localhost:8080/"
        },
        "id": "Y4qAAwtW3F7D",
        "outputId": "6ff62d5f-8d67-4024-dba4-073c69e741a9"
      },
      "source": [
        "answer = 47\r\n",
        "\r\n",
        "if answer == 42:\r\n",
        "  print(\"This is the answer to the ultimate question\")\r\n",
        "elif answer < 42:\r\n",
        "  print(\"This is less than the answer to the ultimate question\")\r\n",
        "else:\r\n",
        "  print(\"This is more than the answer to the ultimate question\")\r\n",
        "print(\"This is always printed\")\r\n",
        "\r\n"
      ],
      "execution_count": null,
      "outputs": [
        {
          "output_type": "stream",
          "text": [
            "This is more than the answer to the ultimate question\n",
            "This is always printed\n"
          ],
          "name": "stdout"
        }
      ]
    },
    {
      "cell_type": "markdown",
      "metadata": {
        "id": "9JD2f-gE4vHT"
      },
      "source": [
        "**Functions**"
      ]
    },
    {
      "cell_type": "code",
      "metadata": {
        "colab": {
          "base_uri": "https://localhost:8080/"
        },
        "id": "t2WBAOme4zR-",
        "outputId": "fbbde9a6-2109-4376-daa1-45d72b30a4e0"
      },
      "source": [
        "def print_me(s):\r\n",
        "  print(s)\r\n",
        "  return\r\n",
        "\r\n",
        "print_me(\"Hello World\")\r\n",
        "\r\n",
        "def step(x):\r\n",
        "  if (x < 0):\r\n",
        "    return -1\r\n",
        "  elif (x >= 0):\r\n",
        "    return 1\r\n",
        "\r\n",
        "print(step(2))\r\n",
        "print(step(-5))\r\n",
        "\r\n"
      ],
      "execution_count": null,
      "outputs": [
        {
          "output_type": "stream",
          "text": [
            "Hello World\n",
            "1\n",
            "-1\n"
          ],
          "name": "stdout"
        }
      ]
    },
    {
      "cell_type": "markdown",
      "metadata": {
        "id": "Wh8ogX6FhUjA"
      },
      "source": [
        "**Numpy arrays**"
      ]
    },
    {
      "cell_type": "code",
      "metadata": {
        "id": "KBJCBs3_8GFI"
      },
      "source": [
        "import numpy as np\r\n",
        "\r\n",
        "a = np.array([1,2,3])\r\n",
        "b = np.array([9,8,7])\r\n",
        "\r\n",
        "# Be careful with syntax. the parantheses and brackets are both required\r\n",
        "print(a)\r\n",
        "\r\n",
        "print(a[0])\r\n",
        "\r\n",
        "#Element-wise operations\r\n",
        "\r\n",
        "c = a + b\r\n",
        "d = a - b\r\n",
        "e = a * b\r\n",
        "f = a / b\r\n",
        "\r\n",
        "print(c)\r\n",
        "print(d)\r\n",
        "print(e)\r\n",
        "print(f)"
      ],
      "execution_count": null,
      "outputs": []
    },
    {
      "cell_type": "code",
      "metadata": {
        "colab": {
          "base_uri": "https://localhost:8080/"
        },
        "id": "mqJ4TAgwhZs2",
        "outputId": "fdb760b3-2c45-4131-84a8-72e5fab8c376"
      },
      "source": [
        "import numpy as np\r\n",
        "np.array([1,4,6,5,3])"
      ],
      "execution_count": null,
      "outputs": [
        {
          "output_type": "execute_result",
          "data": {
            "text/plain": [
              "array([1, 4, 6, 5, 3])"
            ]
          },
          "metadata": {
            "tags": []
          },
          "execution_count": 11
        }
      ]
    },
    {
      "cell_type": "code",
      "metadata": {
        "colab": {
          "base_uri": "https://localhost:8080/"
        },
        "id": "1kE69TQeirNZ",
        "outputId": "a0cb83cc-62ba-459e-daf0-aa60c0e3326b"
      },
      "source": [
        "np.zeros(10,dtype=int)"
      ],
      "execution_count": null,
      "outputs": [
        {
          "output_type": "execute_result",
          "data": {
            "text/plain": [
              "array([0, 0, 0, 0, 0, 0, 0, 0, 0, 0])"
            ]
          },
          "metadata": {
            "tags": []
          },
          "execution_count": 13
        }
      ]
    },
    {
      "cell_type": "code",
      "metadata": {
        "colab": {
          "base_uri": "https://localhost:8080/"
        },
        "id": "A3XNn2pqi2aQ",
        "outputId": "95d8253d-3d08-46eb-fd62-cd8492dda3b3"
      },
      "source": [
        "np.ones((3,5),dtype=float)"
      ],
      "execution_count": null,
      "outputs": [
        {
          "output_type": "execute_result",
          "data": {
            "text/plain": [
              "array([[1., 1., 1., 1., 1.],\n",
              "       [1., 1., 1., 1., 1.],\n",
              "       [1., 1., 1., 1., 1.]])"
            ]
          },
          "metadata": {
            "tags": []
          },
          "execution_count": 14
        }
      ]
    },
    {
      "cell_type": "code",
      "metadata": {
        "colab": {
          "base_uri": "https://localhost:8080/"
        },
        "id": "alG18UXZjCBD",
        "outputId": "2456ce78-ffa4-4f39-c182-2c8a0ee5a63d"
      },
      "source": [
        "np.full((3,5),3.14)"
      ],
      "execution_count": null,
      "outputs": [
        {
          "output_type": "execute_result",
          "data": {
            "text/plain": [
              "array([[3.14, 3.14, 3.14, 3.14, 3.14],\n",
              "       [3.14, 3.14, 3.14, 3.14, 3.14],\n",
              "       [3.14, 3.14, 3.14, 3.14, 3.14]])"
            ]
          },
          "metadata": {
            "tags": []
          },
          "execution_count": 15
        }
      ]
    },
    {
      "cell_type": "code",
      "metadata": {
        "colab": {
          "base_uri": "https://localhost:8080/"
        },
        "id": "jrOPS-uwjOz0",
        "outputId": "fd90b602-1bb5-4ded-dabd-3a967f7957cb"
      },
      "source": [
        "np.arange(0,20,2)"
      ],
      "execution_count": null,
      "outputs": [
        {
          "output_type": "execute_result",
          "data": {
            "text/plain": [
              "array([ 0,  2,  4,  6,  8, 10, 12, 14, 16, 18])"
            ]
          },
          "metadata": {
            "tags": []
          },
          "execution_count": 16
        }
      ]
    },
    {
      "cell_type": "code",
      "metadata": {
        "colab": {
          "base_uri": "https://localhost:8080/"
        },
        "id": "Mvy-wH2ljg4H",
        "outputId": "cfcbdff1-e5a4-45a5-f128-c006a319e2b8"
      },
      "source": [
        "np.random.random((3,3))"
      ],
      "execution_count": null,
      "outputs": [
        {
          "output_type": "execute_result",
          "data": {
            "text/plain": [
              "array([[0.81397968, 0.0967989 , 0.26866963],\n",
              "       [0.04172395, 0.78459406, 0.23697102],\n",
              "       [0.5736828 , 0.19348312, 0.69153236]])"
            ]
          },
          "metadata": {
            "tags": []
          },
          "execution_count": 17
        }
      ]
    }
  ]
}