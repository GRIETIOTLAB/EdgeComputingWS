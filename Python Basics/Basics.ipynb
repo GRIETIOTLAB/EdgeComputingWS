{
  "nbformat": 4,
  "nbformat_minor": 0,
  "metadata": {
    "colab": {
      "name": "Basics.ipynb",
      "provenance": [],
      "authorship_tag": "ABX9TyOJT+fBk6+yZAV+cfRrBJeC",
      "include_colab_link": true
    },
    "kernelspec": {
      "name": "python3",
      "display_name": "Python 3"
    }
  },
  "cells": [
    {
      "cell_type": "markdown",
      "metadata": {
        "id": "view-in-github",
        "colab_type": "text"
      },
      "source": [
        "<a href=\"https://colab.research.google.com/github/GRIETIOTLAB/EdgeComputingWS/blob/main/Python%20Basics/Basics.ipynb\" target=\"_parent\"><img src=\"https://colab.research.google.com/assets/colab-badge.svg\" alt=\"Open In Colab\"/></a>"
      ]
    },
    {
      "cell_type": "markdown",
      "metadata": {
        "id": "yq_tA1A-yn9K"
      },
      "source": [
        "**Hello World**"
      ]
    },
    {
      "cell_type": "code",
      "metadata": {
        "id": "hRIinbumyAP4"
      },
      "source": [
        "print('Hello World!')"
      ],
      "execution_count": null,
      "outputs": []
    },
    {
      "cell_type": "markdown",
      "metadata": {
        "id": "G8TsT9weyfXY"
      },
      "source": [
        "**Variables**\r\n",
        "\r\n",
        "Python is not statically typed\r\n",
        "\r\n",
        "You need not declare a variable before using it\r\n",
        "\r\n",
        "A variable is created the moment you first assign a value to it\r\n",
        "\r\n"
      ]
    },
    {
      "cell_type": "code",
      "metadata": {
        "id": "ixeWDp7XswqX"
      },
      "source": [
        "# A variable stores a piece of data and gives it a name\r\n",
        "\r\n",
        "a = 42\r\n",
        "\r\n",
        "# a contained an integer bcos we gave it an integer\r\n",
        "\r\n",
        "is_it_monday = True\r\n",
        "is_it_sunday = False\r\n",
        "\r\n",
        "# booleans example\r\n",
        "\r\n",
        "pi_approx = 3.1415\r\n",
        "\r\n",
        "# float example\r\n",
        "\r\n",
        "my_name = \"Anand\"\r\n",
        "\r\n",
        "# String data type\r\n",
        "\r\n",
        "print(pi_approx)\r\n",
        "print(my_name)\r\n",
        "print(type(a))\r\n"
      ],
      "execution_count": null,
      "outputs": []
    },
    {
      "cell_type": "markdown",
      "metadata": {
        "id": "3F7cgFb9y55M"
      },
      "source": [
        "**Lists**\r\n",
        "\r\n",
        "List is a native Python data structure to store a set of elements\r\n",
        "\r\n",
        "A single list may contain elements of different data types\r\n",
        "\r\n",
        "Elements in a list are indexed, starting with 0. \r\n",
        "\r\n",
        "Last element can be accessed with an index of -1\r\n",
        "\r\n",
        "Lists are created by placing the elements in [ ] square brackets\r\n",
        "\r\n"
      ]
    },
    {
      "cell_type": "code",
      "metadata": {
        "id": "ImHFIhw2y_fx"
      },
      "source": [
        "prices = [10,20,30,40,50]\r\n",
        "\r\n",
        "colors= [\"red\",\"blue\",\"yellow\"]\r\n",
        "\r\n",
        "mixed_list= [1,2.2,\"three\",False]\r\n",
        "\r\n",
        "print(prices)\r\n",
        "\r\n",
        "print(colors[0])\r\n",
        "\r\n",
        "print(mixed_list[3])"
      ],
      "execution_count": null,
      "outputs": []
    },
    {
      "cell_type": "markdown",
      "metadata": {
        "id": "8i2VRgyidl4x"
      },
      "source": [
        "Element-wise operations not possible in lists"
      ]
    },
    {
      "cell_type": "code",
      "metadata": {
        "id": "JJm-vLxp6DbO"
      },
      "source": [
        "list1 = [1,2,3,4,5]\r\n",
        "list2 = [9,8,7,6,5]\r\n",
        "print(list1 + list2)"
      ],
      "execution_count": null,
      "outputs": []
    },
    {
      "cell_type": "markdown",
      "metadata": {
        "id": "1w6TKMo8618d"
      },
      "source": [
        "**Dictionaries**\r\n",
        "\r\n",
        "Dictionary is a data structure in Python that stores data as a key, value pair\r\n",
        "\r\n",
        "Dictionaries are written with curly brackets"
      ]
    },
    {
      "cell_type": "code",
      "metadata": {
        "id": "3cVA0sjq7LNL"
      },
      "source": [
        "mydict = {\r\n",
        "    \"brand\":\"Maruthi\",\r\n",
        "    \"model\":\"Brezza\",\r\n",
        "    \"year\":2020\r\n",
        "}\r\n",
        "\r\n",
        "empID = {\"Kumar\":667,\"Anand\":668,\"Sampath\":1024}\r\n",
        "\r\n",
        "print(mydict[\"model\"])\r\n",
        "print(empID[\"Sampath\"])"
      ],
      "execution_count": null,
      "outputs": []
    },
    {
      "cell_type": "markdown",
      "metadata": {
        "id": "EyuZJ3OG0MkA"
      },
      "source": [
        "**Importing in Python**"
      ]
    },
    {
      "cell_type": "code",
      "metadata": {
        "id": "Z1DwSd0C0R8W"
      },
      "source": [
        "float1 = 5.24\r\n",
        "float2 = 2.25\r\n",
        "\r\n",
        "import math\r\n",
        "print(math.log(float1))\r\n",
        "print(math.exp(float2))\r\n",
        "\r\n",
        "import matplotlib.pyplot as plt\r\n",
        "x = [-2,-1,0,1,2]\r\n",
        "y = [-4,-2,0,2,4]\r\n",
        "plt.plot(x,y)"
      ],
      "execution_count": null,
      "outputs": []
    },
    {
      "cell_type": "markdown",
      "metadata": {
        "id": "lxBAtCK11uXX"
      },
      "source": [
        "**Loops**"
      ]
    },
    {
      "cell_type": "code",
      "metadata": {
        "id": "qASyoTYj1ykJ"
      },
      "source": [
        "fib = [1,1,2,3,5,8]\r\n",
        "\r\n",
        "for i in range(0,len(fib)):\r\n",
        "  print(fib[i])\r\n",
        "\r\n",
        "print(\"Let's try again\")\r\n",
        "\r\n",
        "for j in fib:\r\n",
        "  print(j)\r\n",
        "\r\n",
        "for index,element in enumerate(fib):\r\n",
        "  print(index,element)"
      ],
      "execution_count": null,
      "outputs": []
    },
    {
      "cell_type": "markdown",
      "metadata": {
        "id": "HsU6sIed3CXn"
      },
      "source": [
        "**Conditionals**"
      ]
    },
    {
      "cell_type": "code",
      "metadata": {
        "id": "Y4qAAwtW3F7D"
      },
      "source": [
        "nNum = 0\r\n",
        "if nNum == 0:\r\n",
        "  print(\"Number is zero\")\r\n",
        "elif nNum > 0:\r\n",
        "  print(\"Number is positive\")\r\n",
        "else:\r\n",
        "  print(\"Number is negative\")\r\n"
      ],
      "execution_count": null,
      "outputs": []
    },
    {
      "cell_type": "code",
      "metadata": {
        "id": "ioeC9CSQww4r"
      },
      "source": [
        ""
      ],
      "execution_count": null,
      "outputs": []
    },
    {
      "cell_type": "markdown",
      "metadata": {
        "id": "9JD2f-gE4vHT"
      },
      "source": [
        "**Functions**"
      ]
    },
    {
      "cell_type": "code",
      "metadata": {
        "id": "t2WBAOme4zR-"
      },
      "source": [
        "def print_me(s):\r\n",
        "  print(s)\r\n",
        "  return\r\n",
        "\r\n",
        "print_me(\"Hello World\")\r\n",
        "\r\n",
        "def step(x):\r\n",
        "  if (x < 0):\r\n",
        "    return -1\r\n",
        "  elif (x >= 0):\r\n",
        "    return 1\r\n",
        "\r\n",
        "print(step(2))\r\n",
        "print(step(-5))\r\n",
        "\r\n",
        "def chk_threshold(x):\r\n",
        "  threshold =25\r\n",
        "  if x < threshold:\r\n",
        "    return False\r\n",
        "  else:\r\n",
        "    return True\r\n",
        "\r\n",
        "print(chk_threshold(20))\r\n",
        "print(chk_threshold(30))\r\n"
      ],
      "execution_count": null,
      "outputs": []
    },
    {
      "cell_type": "markdown",
      "metadata": {
        "id": "Wh8ogX6FhUjA"
      },
      "source": [
        "**Numpy** is a general-purpose array processing package\r\n",
        "\r\n",
        "It provides a high performance multi dimensional array oblect and tools for working on these arrays\r\n",
        "\r\n",
        "**Numpy arrays**"
      ]
    },
    {
      "cell_type": "code",
      "metadata": {
        "id": "KBJCBs3_8GFI"
      },
      "source": [
        "import numpy as np\r\n",
        "\r\n",
        "a = np.array([1,2,3])\r\n",
        "b = np.array([9,8,7])\r\n",
        "\r\n",
        "# Be careful with syntax. the parantheses and brackets are both required\r\n",
        "print(a)\r\n",
        "\r\n",
        "print(a[0])\r\n",
        "\r\n",
        "#Element-wise operations\r\n",
        "\r\n",
        "c = a + b\r\n",
        "d = a - b\r\n",
        "e = a * b\r\n",
        "f = a / b\r\n",
        "\r\n",
        "print(c)\r\n",
        "print(d)\r\n",
        "print(e)\r\n",
        "print(f)"
      ],
      "execution_count": null,
      "outputs": []
    },
    {
      "cell_type": "code",
      "metadata": {
        "colab": {
          "base_uri": "https://localhost:8080/"
        },
        "id": "mqJ4TAgwhZs2",
        "outputId": "aa967036-552b-4dc2-8b29-e802b08168f5"
      },
      "source": [
        "import numpy as np\r\n",
        "np.array([1,4,6,5,3])"
      ],
      "execution_count": 7,
      "outputs": [
        {
          "output_type": "execute_result",
          "data": {
            "text/plain": [
              "array([1, 4, 6, 5, 3])"
            ]
          },
          "metadata": {
            "tags": []
          },
          "execution_count": 7
        }
      ]
    },
    {
      "cell_type": "code",
      "metadata": {
        "id": "1kE69TQeirNZ"
      },
      "source": [
        "np.zeros(10,dtype=int)"
      ],
      "execution_count": null,
      "outputs": []
    },
    {
      "cell_type": "code",
      "metadata": {
        "id": "A3XNn2pqi2aQ"
      },
      "source": [
        "np.ones((3,5),dtype=float)"
      ],
      "execution_count": null,
      "outputs": []
    },
    {
      "cell_type": "code",
      "metadata": {
        "id": "alG18UXZjCBD"
      },
      "source": [
        "np.full((3,5),3.14)"
      ],
      "execution_count": null,
      "outputs": []
    },
    {
      "cell_type": "code",
      "metadata": {
        "id": "jrOPS-uwjOz0"
      },
      "source": [
        "np.arange(0,20,2)"
      ],
      "execution_count": null,
      "outputs": []
    },
    {
      "cell_type": "code",
      "metadata": {
        "id": "Mvy-wH2ljg4H"
      },
      "source": [
        "np.random.random((3,3))"
      ],
      "execution_count": null,
      "outputs": []
    }
  ]
}