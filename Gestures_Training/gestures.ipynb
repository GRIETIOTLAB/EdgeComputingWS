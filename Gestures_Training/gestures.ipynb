{
  "nbformat": 4,
  "nbformat_minor": 0,
  "metadata": {
    "colab": {
      "name": "gestures.ipynb",
      "provenance": [],
      "authorship_tag": "ABX9TyPj0w9Ut9kYalvOYyo8AZDi",
      "include_colab_link": true
    },
    "kernelspec": {
      "name": "python3",
      "display_name": "Python 3"
    }
  },
  "cells": [
    {
      "cell_type": "markdown",
      "metadata": {
        "id": "view-in-github",
        "colab_type": "text"
      },
      "source": [
        "<a href=\"https://colab.research.google.com/github/GRIETIOTLAB/EdgeComputingWS/blob/main/Gestures_Training/gestures.ipynb\" target=\"_parent\"><img src=\"https://colab.research.google.com/assets/colab-badge.svg\" alt=\"Open In Colab\"/></a>"
      ]
    },
    {
      "cell_type": "code",
      "metadata": {
        "id": "QeM6GLg649bJ"
      },
      "source": [
        "!pip install micromlgen"
      ],
      "execution_count": null,
      "outputs": []
    },
    {
      "cell_type": "code",
      "metadata": {
        "id": "hcdp9KWn6cX3"
      },
      "source": [
        "import numpy as np\r\n",
        "from glob import glob\r\n",
        "from os.path import basename\r\n",
        "\r\n",
        "def load_features(folder):\r\n",
        "    dataset = None\r\n",
        "    classmap = {}\r\n",
        "    for class_idx, filename in enumerate(glob('%s/*.csv' % folder)):\r\n",
        "        class_name = basename(filename)[:-4]\r\n",
        "        classmap[class_idx] = class_name\r\n",
        "        samples = np.loadtxt(filename, dtype=float, delimiter=',')\r\n",
        "        labels = np.ones((len(samples), 1)) * class_idx\r\n",
        "        samples = np.hstack((samples, labels))\r\n",
        "        dataset = samples if dataset is None else np.vstack((dataset, samples))\r\n",
        "\r\n",
        "    return dataset, classmap"
      ],
      "execution_count": null,
      "outputs": []
    },
    {
      "cell_type": "code",
      "metadata": {
        "id": "iXmIY8tZ3R6q"
      },
      "source": [
        "from sklearn.ensemble import RandomForestClassifier\r\n",
        "from micromlgen import port\r\n",
        "features,classmap = load_features('sample_data/datasets/')\r\n",
        "X, y = features[:, :-1], features[:, -1]\r\n",
        "classifier = RandomForestClassifier(n_estimators=30, max_depth=10).fit(X, y)\r\n",
        "c_code = port(classifier, classmap=classmap)\r\n",
        "print(c_code)\r\n",
        "\r\n",
        "\r\n"
      ],
      "execution_count": null,
      "outputs": []
    },
    {
      "cell_type": "code",
      "metadata": {
        "id": "HUkZUXyZH-zB"
      },
      "source": [
        "print(classmap)"
      ],
      "execution_count": null,
      "outputs": []
    }
  ]
}