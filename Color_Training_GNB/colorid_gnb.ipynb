{
  "nbformat": 4,
  "nbformat_minor": 0,
  "metadata": {
    "colab": {
      "name": "colorid_gnb.ipynb",
      "provenance": [],
      "authorship_tag": "ABX9TyMIw4Z4brDojlPP2OgVGEgj",
      "include_colab_link": true
    },
    "kernelspec": {
      "name": "python3",
      "display_name": "Python 3"
    }
  },
  "cells": [
    {
      "cell_type": "markdown",
      "metadata": {
        "id": "view-in-github",
        "colab_type": "text"
      },
      "source": [
        "<a href=\"https://colab.research.google.com/github/GRIETIOTLAB/EdgeComputingWS/blob/main/Color_Training_GNB/colorid_gnb.ipynb\" target=\"_parent\"><img src=\"https://colab.research.google.com/assets/colab-badge.svg\" alt=\"Open In Colab\"/></a>"
      ]
    },
    {
      "cell_type": "code",
      "metadata": {
        "id": "6lt1gqfJ5k3s"
      },
      "source": [
        "!pip install micromlgen"
      ],
      "execution_count": null,
      "outputs": []
    },
    {
      "cell_type": "code",
      "metadata": {
        "id": "CgUhIEdG5x0-"
      },
      "source": [
        "import numpy as np\r\n",
        "from glob import glob\r\n",
        "from os.path import basename\r\n",
        "\r\n",
        "def load_features(folder):\r\n",
        "    dataset = None\r\n",
        "    classmap = {}\r\n",
        "    for class_idx, filename in enumerate(glob('%s/*.csv' % folder)):\r\n",
        "        class_name = basename(filename)[:-4]\r\n",
        "        classmap[class_idx] = class_name\r\n",
        "        samples = np.loadtxt(filename, dtype=float, delimiter=',')\r\n",
        "        labels = np.ones((len(samples), 1)) * class_idx\r\n",
        "        samples = np.hstack((samples, labels))\r\n",
        "        dataset = samples if dataset is None else np.vstack((dataset, samples))\r\n",
        "\r\n",
        "    return dataset, classmap"
      ],
      "execution_count": 3,
      "outputs": []
    },
    {
      "cell_type": "code",
      "metadata": {
        "id": "6ev_eDlZ53sY"
      },
      "source": [
        "from sklearn.naive_bayes import GaussianNB\r\n",
        "from micromlgen import port\r\n",
        "features,classmap=load_features('sample_data/datasets')\r\n",
        "X,y=features[:,:-1],features[:,-1]\r\n",
        "clf=GaussianNB()\r\n",
        "clf.fit(X,y)\r\n",
        "print(port(clf,classmap=classmap))"
      ],
      "execution_count": null,
      "outputs": []
    }
  ]
}