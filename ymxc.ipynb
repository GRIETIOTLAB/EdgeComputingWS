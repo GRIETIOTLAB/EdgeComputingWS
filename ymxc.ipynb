{
  "nbformat": 4,
  "nbformat_minor": 0,
  "metadata": {
    "colab": {
      "name": "ymxc.ipynb",
      "provenance": [],
      "authorship_tag": "ABX9TyMYPAtwh0OTUWbLAYYtcfKv",
      "include_colab_link": true
    },
    "kernelspec": {
      "name": "python3",
      "display_name": "Python 3"
    }
  },
  "cells": [
    {
      "cell_type": "markdown",
      "metadata": {
        "id": "view-in-github",
        "colab_type": "text"
      },
      "source": [
        "<a href=\"https://colab.research.google.com/github/GRIETIOTLAB/EdgeComputingWS/blob/main/ymxc.ipynb\" target=\"_parent\"><img src=\"https://colab.research.google.com/assets/colab-badge.svg\" alt=\"Open In Colab\"/></a>"
      ]
    },
    {
      "cell_type": "code",
      "metadata": {
        "id": "f6WUVrVNUXmW"
      },
      "source": [
        "import numpy as np\r\n",
        "from sklearn.linear_model import LinearRegression\r\n",
        "X = np.random.randint(0,100,20)\r\n",
        "X = X.reshape(-1,1)\r\n",
        "y = 0.75*X + 0.5\r\n",
        "lr = LinearRegression().fit(X,y)\r\n",
        "print(lr.coef_)\r\n",
        "print(lr.intercept_)\r\n",
        "z = np.array([34]).reshape(-1,1)\r\n",
        "print(lr.predict(z))\r\n",
        "\r\n",
        "\r\n"
      ],
      "execution_count": null,
      "outputs": []
    }
  ]
}