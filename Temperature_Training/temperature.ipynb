{
  "nbformat": 4,
  "nbformat_minor": 0,
  "metadata": {
    "colab": {
      "name": "temperature.ipynb",
      "provenance": [],
      "authorship_tag": "ABX9TyPVHuppdKeycUcx7ETU9GhQ",
      "include_colab_link": true
    },
    "kernelspec": {
      "name": "python3",
      "display_name": "Python 3"
    }
  },
  "cells": [
    {
      "cell_type": "markdown",
      "metadata": {
        "id": "view-in-github",
        "colab_type": "text"
      },
      "source": [
        "<a href=\"https://colab.research.google.com/github/GRIETIOTLAB/EdgeComputingWS/blob/main/Temperature_Training/temperature.ipynb\" target=\"_parent\"><img src=\"https://colab.research.google.com/assets/colab-badge.svg\" alt=\"Open In Colab\"/></a>"
      ]
    },
    {
      "cell_type": "code",
      "metadata": {
        "id": "DY5OudjHEKxi"
      },
      "source": [
        "!pip install micromlgen"
      ],
      "execution_count": null,
      "outputs": []
    },
    {
      "cell_type": "code",
      "metadata": {
        "id": "DV8fQYtrAmXm"
      },
      "source": [
        "from sklearn.linear_model import LinearRegression\r\n",
        "import numpy as np\r\n",
        "from micromlgen import port\r\n",
        "samples = np.loadtxt('sample_data/datasets/temperature.csv',dtype=float,delimiter=',')\r\n",
        "X = samples[:,:-1]\r\n",
        "y = samples[:,-1]\r\n",
        "lr = LinearRegression()\r\n",
        "lr.fit(X,y)\r\n",
        "c_code = port(lr)\r\n",
        "print(c_code)"
      ],
      "execution_count": null,
      "outputs": []
    }
  ]
}