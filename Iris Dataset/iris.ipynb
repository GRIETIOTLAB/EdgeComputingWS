{
  "nbformat": 4,
  "nbformat_minor": 0,
  "metadata": {
    "colab": {
      "name": "iris.ipynb",
      "provenance": [],
      "authorship_tag": "ABX9TyO/aLdkwBJxShOpAjB6iNEj",
      "include_colab_link": true
    },
    "kernelspec": {
      "name": "python3",
      "display_name": "Python 3"
    }
  },
  "cells": [
    {
      "cell_type": "markdown",
      "metadata": {
        "id": "view-in-github",
        "colab_type": "text"
      },
      "source": [
        "<a href=\"https://colab.research.google.com/github/GRIETIOTLAB/EdgeComputingWS/blob/main/Iris%20Dataset/iris.ipynb\" target=\"_parent\"><img src=\"https://colab.research.google.com/assets/colab-badge.svg\" alt=\"Open In Colab\"/></a>"
      ]
    },
    {
      "cell_type": "code",
      "metadata": {
        "id": "a8N3ausrhm8j"
      },
      "source": [
        "!pip install micromlgen\r\n"
      ],
      "execution_count": null,
      "outputs": []
    },
    {
      "cell_type": "code",
      "metadata": {
        "id": "7P3VSoqzhwDE"
      },
      "source": [
        "from sklearn.tree import DecisionTreeClassifier\r\n",
        "from micromlgen import port\r\n",
        "from sklearn.datasets import load_iris\r\n",
        "clf = DecisionTreeClassifier()\r\n",
        "X,y = load_iris(return_X_y=True)\r\n",
        "clf.fit(X,y)\r\n",
        "print(port(clf))\r\n",
        "\r\n"
      ],
      "execution_count": null,
      "outputs": []
    }
  ]
}