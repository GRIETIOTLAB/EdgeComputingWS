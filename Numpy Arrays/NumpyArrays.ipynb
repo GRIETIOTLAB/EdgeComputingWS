{
  "nbformat": 4,
  "nbformat_minor": 0,
  "metadata": {
    "colab": {
      "name": "NumpyArrays.ipynb",
      "provenance": [],
      "authorship_tag": "ABX9TyNC8spUctzYY8qIR2+Hbi4F",
      "include_colab_link": true
    },
    "kernelspec": {
      "name": "python3",
      "display_name": "Python 3"
    }
  },
  "cells": [
    {
      "cell_type": "markdown",
      "metadata": {
        "id": "view-in-github",
        "colab_type": "text"
      },
      "source": [
        "<a href=\"https://colab.research.google.com/github/GRIETIOTLAB/EdgeComputingWS/blob/main/Numpy%20Arrays/NumpyArrays.ipynb\" target=\"_parent\"><img src=\"https://colab.research.google.com/assets/colab-badge.svg\" alt=\"Open In Colab\"/></a>"
      ]
    },
    {
      "cell_type": "markdown",
      "metadata": {
        "id": "ycAT0NdtcLu2"
      },
      "source": [
        "First let's discuss some useful array attributes.\r\n",
        "We'll start by defining three random arrays, a one-dimensional, two-dimensional, and three-dimensional array.\r\n",
        "We'll use NumPy's random number generator, which we will *seed* with a set value in order to ensure that the same random arrays are generated each time this code is run:"
      ]
    },
    {
      "cell_type": "code",
      "metadata": {
        "id": "gO1IaqnM9_zi"
      },
      "source": [
        "import numpy as np\r\n",
        "np.random.seed(8) # Seed for reproducibility\r\n",
        "x1 = np.random.randint(10,size=6) #one dimensional array\r\n",
        "x2 = np.random.randint(10,size=(3,4)) # 2 dimensional array\r\n",
        "x3 = np.random.randint(10,size=(3,4,5)) # 3 dimensional array\r\n",
        "print(x1)\r\n",
        "print(x2)\r\n",
        "print(x3)"
      ],
      "execution_count": null,
      "outputs": []
    },
    {
      "cell_type": "markdown",
      "metadata": {
        "id": "LXOkURUpbgWp"
      },
      "source": [
        "Each array has attributes ``ndim`` (the number of dimensions), ``shape`` (the size of each dimension), and ``size`` (the total size of the array):"
      ]
    },
    {
      "cell_type": "code",
      "metadata": {
        "id": "k6LjydetxqMm"
      },
      "source": [
        "print(\"x3 ndim: \", x3.ndim)\r\n",
        "print(\"x3 shape:\", x3.shape)\r\n",
        "print(\"x3 size: \", x3.size)"
      ],
      "execution_count": null,
      "outputs": []
    },
    {
      "cell_type": "markdown",
      "metadata": {
        "id": "Mou3ESJKAMU-"
      },
      "source": [
        "**Accessing single elements**"
      ]
    },
    {
      "cell_type": "code",
      "metadata": {
        "id": "34y57MTZ_lDM"
      },
      "source": [
        "print(x1)\r\n",
        "print(x1[0])\r\n",
        "print(x1[-1])"
      ],
      "execution_count": null,
      "outputs": []
    },
    {
      "cell_type": "markdown",
      "metadata": {
        "id": "K5Vh2TnLAfG0"
      },
      "source": [
        "**Array slicing:accessing Subarrays**\r\n",
        "\r\n",
        "**Slice notation x[start:stop:step]**\r\n",
        "\r\n",
        "Default values: start=0, stop=size of dimension,step=1 "
      ]
    },
    {
      "cell_type": "code",
      "metadata": {
        "id": "6M-7UzyWAymk"
      },
      "source": [
        "x = np.arange(10)\r\n",
        "x"
      ],
      "execution_count": null,
      "outputs": []
    },
    {
      "cell_type": "code",
      "metadata": {
        "id": "vVHSy057CFCE"
      },
      "source": [
        "x[:5]"
      ],
      "execution_count": null,
      "outputs": []
    },
    {
      "cell_type": "code",
      "metadata": {
        "colab": {
          "base_uri": "https://localhost:8080/"
        },
        "id": "EHvgcQ6eCOZH",
        "outputId": "f7dce408-d2d0-420a-95a1-04f271d9a597"
      },
      "source": [
        "x[5:]"
      ],
      "execution_count": null,
      "outputs": [
        {
          "output_type": "execute_result",
          "data": {
            "text/plain": [
              "array([5, 6, 7, 8, 9])"
            ]
          },
          "metadata": {
            "tags": []
          },
          "execution_count": 5
        }
      ]
    },
    {
      "cell_type": "code",
      "metadata": {
        "colab": {
          "base_uri": "https://localhost:8080/"
        },
        "id": "zpI-Osv5CYa3",
        "outputId": "baee3ce7-0f9c-4b98-c529-8ac95b6b45e5"
      },
      "source": [
        "x[4:7]"
      ],
      "execution_count": null,
      "outputs": [
        {
          "output_type": "execute_result",
          "data": {
            "text/plain": [
              "array([4, 5, 6])"
            ]
          },
          "metadata": {
            "tags": []
          },
          "execution_count": 12
        }
      ]
    },
    {
      "cell_type": "markdown",
      "metadata": {
        "id": "ZfjUd_HaEC_Z"
      },
      "source": [
        "Multidimensional subarrays"
      ]
    },
    {
      "cell_type": "code",
      "metadata": {
        "id": "Aalg6BrcEHG2"
      },
      "source": [
        "x2"
      ],
      "execution_count": null,
      "outputs": []
    },
    {
      "cell_type": "code",
      "metadata": {
        "id": "SCErpbHGEZLS"
      },
      "source": [
        "x2[:2,:3]"
      ],
      "execution_count": null,
      "outputs": []
    },
    {
      "cell_type": "markdown",
      "metadata": {
        "id": "3Ze56fvIHguv"
      },
      "source": [
        "**Accessing array rows and columns**\r\n",
        "\r\n",
        "Combining indexing and slicing"
      ]
    },
    {
      "cell_type": "code",
      "metadata": {
        "id": "tVFbP6Wwo-6Q"
      },
      "source": [
        "x2 = np.random.randint(10,size=(3,4))\r\n",
        "print(x2)\r\n"
      ],
      "execution_count": null,
      "outputs": []
    },
    {
      "cell_type": "markdown",
      "metadata": {
        "id": "vULz4vDsHnID"
      },
      "source": [
        ""
      ]
    },
    {
      "cell_type": "code",
      "metadata": {
        "id": "gWWhvUeGIMVK"
      },
      "source": [
        "# Select the first column\r\n",
        "\r\n",
        "print(x2[:,0])"
      ],
      "execution_count": null,
      "outputs": []
    },
    {
      "cell_type": "code",
      "metadata": {
        "id": "1rm9CAJPJJsD"
      },
      "source": [
        "# Select the last column  (The labels in a dataset)\r\n",
        "\r\n",
        "print(x2[:,-1])"
      ],
      "execution_count": null,
      "outputs": []
    },
    {
      "cell_type": "code",
      "metadata": {
        "id": "dotJpeNRJVbm"
      },
      "source": [
        "# Select upto the last column  (The data values in a dataset)\r\n",
        "\r\n",
        "print(x2[:,:-1])"
      ],
      "execution_count": null,
      "outputs": []
    },
    {
      "cell_type": "markdown",
      "metadata": {
        "id": "l9AgZRWJRitC"
      },
      "source": [
        "**Reshaping of arrays**"
      ]
    },
    {
      "cell_type": "code",
      "metadata": {
        "id": "JWskgcpWRvHn"
      },
      "source": [
        "g = np.arange(1,10).reshape((3,3))\r\n",
        "print(g)"
      ],
      "execution_count": null,
      "outputs": []
    },
    {
      "cell_type": "code",
      "metadata": {
        "id": "76nFUABkSjgU"
      },
      "source": [
        "x = np.array([1,2,3])\r\n",
        "x.reshape(3,1)"
      ],
      "execution_count": null,
      "outputs": []
    },
    {
      "cell_type": "markdown",
      "metadata": {
        "id": "9yG-JTcCTXEl"
      },
      "source": [
        "**Array concatenation & splitting**"
      ]
    },
    {
      "cell_type": "code",
      "metadata": {
        "id": "wX83dIQ9Te9k"
      },
      "source": [
        "x = np.array([1,2,3])\r\n",
        "grid = np.array([[9,8,7],\r\n",
        "                [6,5,4]])\r\n",
        "np.vstack([x,grid])"
      ],
      "execution_count": null,
      "outputs": []
    },
    {
      "cell_type": "code",
      "metadata": {
        "id": "RnXjEH8aU1cF"
      },
      "source": [
        "y = np.array([[99],[99]])\r\n",
        "np.hstack([grid,y])"
      ],
      "execution_count": null,
      "outputs": []
    },
    {
      "cell_type": "markdown",
      "metadata": {
        "id": "-W20nWy0sx8v"
      },
      "source": [
        "**Splitting of arrays**"
      ]
    },
    {
      "cell_type": "code",
      "metadata": {
        "colab": {
          "base_uri": "https://localhost:8080/"
        },
        "id": "BDZNyZKNs3Wj",
        "outputId": "c2871130-4f9d-4015-c467-a8d0cfa59f25"
      },
      "source": [
        "x = [1,2,3,99,99,3,2,1]\r\n",
        "x1,x2,x3 = np.split(x,[2,3])\r\n",
        "print(x1,x2,x3)"
      ],
      "execution_count": null,
      "outputs": [
        {
          "output_type": "stream",
          "text": [
            "[1 2] [3] [99 99  3  2  1]\n"
          ],
          "name": "stdout"
        }
      ]
    },
    {
      "cell_type": "code",
      "metadata": {
        "id": "mNErfiIpuv7q"
      },
      "source": [
        "grid = np.arange(16).reshape(4,4)\r\n",
        "grid"
      ],
      "execution_count": null,
      "outputs": []
    },
    {
      "cell_type": "code",
      "metadata": {
        "id": "mUYhU4R_vIU7"
      },
      "source": [
        "x1,x2,x3=np.split(grid,[1,3])\r\n",
        "print(x1,x2,x3)"
      ],
      "execution_count": null,
      "outputs": []
    }
  ]
}